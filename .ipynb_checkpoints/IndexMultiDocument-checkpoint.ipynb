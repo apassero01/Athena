{
 "cells": [
  {
   "cell_type": "markdown",
   "id": "0f0eaf3c",
   "metadata": {},
   "source": []
  },
  {
   "cell_type": "code",
   "execution_count": 19,
   "id": "dd9b695e",
   "metadata": {},
   "outputs": [
    {
     "data": {
      "text/plain": [
       "True"
      ]
     },
     "execution_count": 19,
     "metadata": {},
     "output_type": "execute_result"
    }
   ],
   "source": [
    "import os\n",
    "from dotenv import load_dotenv, find_dotenv\n",
    "load_dotenv(find_dotenv())"
   ]
  },
  {
   "cell_type": "code",
   "execution_count": 20,
   "id": "c7f8386a",
   "metadata": {
    "scrolled": true
   },
   "outputs": [],
   "source": [
    "from langchain.text_splitter import RecursiveCharacterTextSplitter\n",
    "from langchain.document_loaders import PyPDFLoader\n",
    "\n",
    "files = [\"CS240 Proposal.pdf\", \"homework 11 (1).pdf\"]\n",
    "# \"homework reflection 1 - Google Docs.pdf\"\n",
    "\n",
    "allDocs = []\n",
    "for file in files: \n",
    "    loader = PyPDFLoader(file)\n",
    "    allDocs.extend(loader.load())\n"
   ]
  },
  {
   "cell_type": "code",
   "execution_count": null,
   "id": "efbe35e6",
   "metadata": {},
   "outputs": [],
   "source": []
  },
  {
   "cell_type": "code",
   "execution_count": 21,
   "id": "9f60b809",
   "metadata": {},
   "outputs": [],
   "source": [
    "text_splitter = RecursiveCharacterTextSplitter(chunk_size = 1000, chunk_overlap = 0)\n",
    "docs = text_splitter.split_documents(allDocs)"
   ]
  },
  {
   "cell_type": "code",
   "execution_count": null,
   "id": "6383a2f6",
   "metadata": {},
   "outputs": [],
   "source": []
  },
  {
   "cell_type": "code",
   "execution_count": 22,
   "id": "50fbeb19",
   "metadata": {},
   "outputs": [],
   "source": [
    "from langchain.embeddings import OpenAIEmbeddings\n",
    "\n",
    "embeddings = OpenAIEmbeddings()"
   ]
  },
  {
   "cell_type": "code",
   "execution_count": 23,
   "id": "7dec2e7d",
   "metadata": {},
   "outputs": [
    {
     "data": {
      "text/plain": [
       "OpenAIEmbeddings(client=<class 'openai.api_resources.embedding.Embedding'>, model='text-embedding-ada-002', deployment='text-embedding-ada-002', openai_api_version=None, openai_api_base=None, openai_api_type=None, embedding_ctx_length=8191, openai_api_key=None, openai_organization=None, allowed_special=set(), disallowed_special='all', chunk_size=1000, max_retries=6, request_timeout=None, headers=None)"
      ]
     },
     "execution_count": 23,
     "metadata": {},
     "output_type": "execute_result"
    }
   ],
   "source": [
    "embeddings"
   ]
  },
  {
   "cell_type": "code",
   "execution_count": 18,
   "id": "af5fa541",
   "metadata": {},
   "outputs": [
    {
     "name": "stderr",
     "output_type": "stream",
     "text": [
      "/Library/Frameworks/Python.framework/Versions/3.10/lib/python3.10/site-packages/pinecone/index.py:4: TqdmExperimentalWarning: Using `tqdm.autonotebook.tqdm` in notebook mode. Use `tqdm.tqdm` instead to force console mode (e.g. in jupyter console)\n",
      "  from tqdm.autonotebook import tqdm\n"
     ]
    }
   ],
   "source": [
    "import os\n",
    "import pinecone\n",
    "from langchain.vectorstores import Pinecone\n",
    "\n",
    "pinecone.init(\n",
    "    api_key = os.getenv(\"PINECONE_API_KEY\"),\n",
    "    environment = os.getenv(\"PINECONE_ENV\")\n",
    ")"
   ]
  },
  {
   "cell_type": "code",
   "execution_count": 23,
   "id": "726a49e7",
   "metadata": {},
   "outputs": [],
   "source": [
    "index_name = \"example1\"\n",
    "search = Pinecone.from_documents(docs,embeddings,index_name = index_name)\n",
    "stats[\"example1\"]"
   ]
  },
  {
   "cell_type": "code",
   "execution_count": 38,
   "id": "bdb452d3",
   "metadata": {},
   "outputs": [],
   "source": [
    "query = \"artificial intelligence\"\n",
    "test = search.similarity_search(query)"
   ]
  },
  {
   "cell_type": "code",
   "execution_count": 39,
   "id": "8356d6ca",
   "metadata": {},
   "outputs": [
    {
     "data": {
      "text/plain": [
       "{'page': 0.0, 'source': 'CS240 Proposal.pdf'}"
      ]
     },
     "execution_count": 39,
     "metadata": {},
     "output_type": "execute_result"
    }
   ],
   "source": [
    "test[0].metadata"
   ]
  },
  {
   "cell_type": "code",
   "execution_count": 40,
   "id": "80b12397",
   "metadata": {},
   "outputs": [
    {
     "data": {
      "text/plain": [
       "'Q u e s t i o n :\\nH o w\\nc a n\\nA I\\nb e\\nr e g u l a t e d\\ni n\\na\\nw a y\\nt h a t\\ni s\\nf a i r\\nt o\\na l l\\np e o p l e\\n-\\nH o w\\ni s\\n“ f a i r\\nd e f i n e d ”\\n-\\nW h o\\na r e\\nt h e\\nr e g u l a t o r s\\na n d\\nd o\\nt h e i r\\np e r s o n a l\\nb e l i e f s\\np r e v e n t\\nf a i r n e s s\\nf o r\\na l l\\np e o p l e\\nA r t i f i c i a l\\nI n t e l l i g e n c e\\ni s\\nq u i c k l y\\nt a k i n g\\no v e r\\ne v e r y\\na s p e c t\\no f\\nt h e\\nw o r l d .\\nF r o m\\nb a n k i n g ,\\nt o\\nh e a l t h c a r e ,\\nt o\\na d v e r t i s i n g ,\\nA I\\na l g o r i t h m s\\na r e\\nb e i n g\\ni m p l e m e n t e d\\nt o\\nb e t t e r\\ns o l v e\\np r o b l e m s\\nf a c e d\\ni n\\nt h e s e\\ni n d u s t r i e s .\\nS p e c i f i c a l l y\\ni n\\na\\nl o t\\no f\\nc a s e s ,\\nl a r g e\\na m o u n t s\\no f\\nd a t a\\na r e\\nb e i n g\\nu s e d\\nt o\\np r e d i c t\\nt h e\\nl i k e l i h o o d\\no f\\nc e r t a i n\\ne v e n t s\\no c c u r r i n g\\ni n\\nt h e\\nf u t u r e .\\nT h i s\\ni s\\ne x t r e m e l y\\np o w e r f u l\\na s\\nc o m p l e x\\np r o b l e m s\\nc a n\\nb e\\ns o l v e d\\nm u c h\\nm o r e'"
      ]
     },
     "execution_count": 40,
     "metadata": {},
     "output_type": "execute_result"
    }
   ],
   "source": [
    "test[0].page_content"
   ]
  },
  {
   "cell_type": "code",
   "execution_count": 42,
   "id": "758d321a",
   "metadata": {},
   "outputs": [
    {
     "data": {
      "text/plain": [
       "'CS240 Proposal.pdf'"
      ]
     },
     "execution_count": 42,
     "metadata": {},
     "output_type": "execute_result"
    }
   ],
   "source": [
    "test[0].metadata['source']1"
   ]
  },
  {
   "cell_type": "code",
   "execution_count": null,
   "id": "20921ee8",
   "metadata": {},
   "outputs": [],
   "source": []
  }
 ],
 "metadata": {
  "kernelspec": {
   "display_name": "Python 3 (ipykernel)",
   "language": "python",
   "name": "python3"
  },
  "language_info": {
   "codemirror_mode": {
    "name": "ipython",
    "version": 3
   },
   "file_extension": ".py",
   "mimetype": "text/x-python",
   "name": "python",
   "nbconvert_exporter": "python",
   "pygments_lexer": "ipython3",
   "version": "3.10.6"
  }
 },
 "nbformat": 4,
 "nbformat_minor": 5
}
