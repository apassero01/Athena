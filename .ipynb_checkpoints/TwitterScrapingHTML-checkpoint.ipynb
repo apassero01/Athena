{
 "cells": [
  {
   "cell_type": "code",
   "execution_count": 21,
   "id": "28b7e467",
   "metadata": {},
   "outputs": [],
   "source": [
    "from selenium import webdriver\n",
    "from selenium.webdriver.common.by import By"
   ]
  },
  {
   "cell_type": "code",
   "execution_count": 39,
   "id": "318518e5",
   "metadata": {},
   "outputs": [],
   "source": [
    "url = \"https://twitter.com/marketplunger1/status/1658858833295425536?s=20\""
   ]
  },
  {
   "cell_type": "code",
   "execution_count": 49,
   "id": "cc84ac64",
   "metadata": {},
   "outputs": [],
   "source": [
    "driver = webdriver.Chrome()\n",
    "driver.get(url)\n",
    "driver.implicitly_wait(10)"
   ]
  },
  {
   "cell_type": "code",
   "execution_count": 59,
   "id": "445ab43a",
   "metadata": {},
   "outputs": [
    {
     "ename": "WebDriverException",
     "evalue": "Message: unknown error: unhandled inspector error: {\"code\":-32000,\"message\":\"No node with given id found\"}\n  (Session info: chrome=114.0.5735.106)\nStacktrace:\n0   chromedriver                        0x00000001046526b8 chromedriver + 4937400\n1   chromedriver                        0x0000000104649b73 chromedriver + 4901747\n2   chromedriver                        0x0000000104207616 chromedriver + 435734\n3   chromedriver                        0x00000001041ef3da chromedriver + 336858\n4   chromedriver                        0x00000001041ed1bd chromedriver + 328125\n5   chromedriver                        0x00000001041ed4fc chromedriver + 328956\n6   chromedriver                        0x00000001041ed454 chromedriver + 328788\n7   chromedriver                        0x0000000104217775 chromedriver + 501621\n8   chromedriver                        0x000000010420d1b3 chromedriver + 459187\n9   chromedriver                        0x000000010420b6e1 chromedriver + 452321\n10  chromedriver                        0x000000010420eb87 chromedriver + 465799\n11  chromedriver                        0x000000010420ec8c chromedriver + 466060\n12  chromedriver                        0x0000000104244c12 chromedriver + 687122\n13  chromedriver                        0x000000010426f012 chromedriver + 860178\n14  chromedriver                        0x000000010423e9c1 chromedriver + 661953\n15  chromedriver                        0x000000010426f1ce chromedriver + 860622\n16  chromedriver                        0x0000000104289e76 chromedriver + 970358\n17  chromedriver                        0x000000010426ede3 chromedriver + 859619\n18  chromedriver                        0x000000010423cd7f chromedriver + 654719\n19  chromedriver                        0x000000010423e0de chromedriver + 659678\n20  chromedriver                        0x000000010460e2ad chromedriver + 4657837\n21  chromedriver                        0x0000000104613130 chromedriver + 4677936\n22  chromedriver                        0x0000000104619def chromedriver + 4705775\n23  chromedriver                        0x000000010461405a chromedriver + 4681818\n24  chromedriver                        0x00000001045e692c chromedriver + 4495660\n25  chromedriver                        0x0000000104631838 chromedriver + 4802616\n26  chromedriver                        0x00000001046319b7 chromedriver + 4802999\n27  chromedriver                        0x000000010464299f chromedriver + 4872607\n28  libsystem_pthread.dylib             0x00007ff8101124e1 _pthread_start + 125\n29  libsystem_pthread.dylib             0x00007ff81010df6b thread_start + 15\n",
     "output_type": "error",
     "traceback": [
      "\u001b[0;31m---------------------------------------------------------------------------\u001b[0m",
      "\u001b[0;31mWebDriverException\u001b[0m                        Traceback (most recent call last)",
      "Cell \u001b[0;32mIn[59], line 6\u001b[0m\n\u001b[1;32m      4\u001b[0m elements \u001b[38;5;241m=\u001b[39m driver\u001b[38;5;241m.\u001b[39mfind_elements(By\u001b[38;5;241m.\u001b[39mTAG_NAME, \u001b[38;5;124m'\u001b[39m\u001b[38;5;124mdiv\u001b[39m\u001b[38;5;124m'\u001b[39m)\n\u001b[1;32m      5\u001b[0m \u001b[38;5;28;01mfor\u001b[39;00m e \u001b[38;5;129;01min\u001b[39;00m elements: \n\u001b[0;32m----> 6\u001b[0m     \u001b[43me\u001b[49m\u001b[38;5;241;43m.\u001b[39;49m\u001b[43mtext\u001b[49m\n",
      "File \u001b[0;32m/Library/Frameworks/Python.framework/Versions/3.10/lib/python3.10/site-packages/selenium/webdriver/remote/webelement.py:90\u001b[0m, in \u001b[0;36mWebElement.text\u001b[0;34m(self)\u001b[0m\n\u001b[1;32m     87\u001b[0m \u001b[38;5;129m@property\u001b[39m\n\u001b[1;32m     88\u001b[0m \u001b[38;5;28;01mdef\u001b[39;00m \u001b[38;5;21mtext\u001b[39m(\u001b[38;5;28mself\u001b[39m) \u001b[38;5;241m-\u001b[39m\u001b[38;5;241m>\u001b[39m \u001b[38;5;28mstr\u001b[39m:\n\u001b[1;32m     89\u001b[0m \u001b[38;5;250m    \u001b[39m\u001b[38;5;124;03m\"\"\"The text of the element.\"\"\"\u001b[39;00m\n\u001b[0;32m---> 90\u001b[0m     \u001b[38;5;28;01mreturn\u001b[39;00m \u001b[38;5;28;43mself\u001b[39;49m\u001b[38;5;241;43m.\u001b[39;49m\u001b[43m_execute\u001b[49m\u001b[43m(\u001b[49m\u001b[43mCommand\u001b[49m\u001b[38;5;241;43m.\u001b[39;49m\u001b[43mGET_ELEMENT_TEXT\u001b[49m\u001b[43m)\u001b[49m[\u001b[38;5;124m\"\u001b[39m\u001b[38;5;124mvalue\u001b[39m\u001b[38;5;124m\"\u001b[39m]\n",
      "File \u001b[0;32m/Library/Frameworks/Python.framework/Versions/3.10/lib/python3.10/site-packages/selenium/webdriver/remote/webelement.py:403\u001b[0m, in \u001b[0;36mWebElement._execute\u001b[0;34m(self, command, params)\u001b[0m\n\u001b[1;32m    401\u001b[0m     params \u001b[38;5;241m=\u001b[39m {}\n\u001b[1;32m    402\u001b[0m params[\u001b[38;5;124m\"\u001b[39m\u001b[38;5;124mid\u001b[39m\u001b[38;5;124m\"\u001b[39m] \u001b[38;5;241m=\u001b[39m \u001b[38;5;28mself\u001b[39m\u001b[38;5;241m.\u001b[39m_id\n\u001b[0;32m--> 403\u001b[0m \u001b[38;5;28;01mreturn\u001b[39;00m \u001b[38;5;28;43mself\u001b[39;49m\u001b[38;5;241;43m.\u001b[39;49m\u001b[43m_parent\u001b[49m\u001b[38;5;241;43m.\u001b[39;49m\u001b[43mexecute\u001b[49m\u001b[43m(\u001b[49m\u001b[43mcommand\u001b[49m\u001b[43m,\u001b[49m\u001b[43m \u001b[49m\u001b[43mparams\u001b[49m\u001b[43m)\u001b[49m\n",
      "File \u001b[0;32m/Library/Frameworks/Python.framework/Versions/3.10/lib/python3.10/site-packages/selenium/webdriver/remote/webdriver.py:440\u001b[0m, in \u001b[0;36mWebDriver.execute\u001b[0;34m(self, driver_command, params)\u001b[0m\n\u001b[1;32m    438\u001b[0m response \u001b[38;5;241m=\u001b[39m \u001b[38;5;28mself\u001b[39m\u001b[38;5;241m.\u001b[39mcommand_executor\u001b[38;5;241m.\u001b[39mexecute(driver_command, params)\n\u001b[1;32m    439\u001b[0m \u001b[38;5;28;01mif\u001b[39;00m response:\n\u001b[0;32m--> 440\u001b[0m     \u001b[38;5;28;43mself\u001b[39;49m\u001b[38;5;241;43m.\u001b[39;49m\u001b[43merror_handler\u001b[49m\u001b[38;5;241;43m.\u001b[39;49m\u001b[43mcheck_response\u001b[49m\u001b[43m(\u001b[49m\u001b[43mresponse\u001b[49m\u001b[43m)\u001b[49m\n\u001b[1;32m    441\u001b[0m     response[\u001b[38;5;124m\"\u001b[39m\u001b[38;5;124mvalue\u001b[39m\u001b[38;5;124m\"\u001b[39m] \u001b[38;5;241m=\u001b[39m \u001b[38;5;28mself\u001b[39m\u001b[38;5;241m.\u001b[39m_unwrap_value(response\u001b[38;5;241m.\u001b[39mget(\u001b[38;5;124m\"\u001b[39m\u001b[38;5;124mvalue\u001b[39m\u001b[38;5;124m\"\u001b[39m, \u001b[38;5;28;01mNone\u001b[39;00m))\n\u001b[1;32m    442\u001b[0m     \u001b[38;5;28;01mreturn\u001b[39;00m response\n",
      "File \u001b[0;32m/Library/Frameworks/Python.framework/Versions/3.10/lib/python3.10/site-packages/selenium/webdriver/remote/errorhandler.py:245\u001b[0m, in \u001b[0;36mErrorHandler.check_response\u001b[0;34m(self, response)\u001b[0m\n\u001b[1;32m    243\u001b[0m         alert_text \u001b[38;5;241m=\u001b[39m value[\u001b[38;5;124m\"\u001b[39m\u001b[38;5;124malert\u001b[39m\u001b[38;5;124m\"\u001b[39m]\u001b[38;5;241m.\u001b[39mget(\u001b[38;5;124m\"\u001b[39m\u001b[38;5;124mtext\u001b[39m\u001b[38;5;124m\"\u001b[39m)\n\u001b[1;32m    244\u001b[0m     \u001b[38;5;28;01mraise\u001b[39;00m exception_class(message, screen, stacktrace, alert_text)  \u001b[38;5;66;03m# type: ignore[call-arg]  # mypy is not smart enough here\u001b[39;00m\n\u001b[0;32m--> 245\u001b[0m \u001b[38;5;28;01mraise\u001b[39;00m exception_class(message, screen, stacktrace)\n",
      "\u001b[0;31mWebDriverException\u001b[0m: Message: unknown error: unhandled inspector error: {\"code\":-32000,\"message\":\"No node with given id found\"}\n  (Session info: chrome=114.0.5735.106)\nStacktrace:\n0   chromedriver                        0x00000001046526b8 chromedriver + 4937400\n1   chromedriver                        0x0000000104649b73 chromedriver + 4901747\n2   chromedriver                        0x0000000104207616 chromedriver + 435734\n3   chromedriver                        0x00000001041ef3da chromedriver + 336858\n4   chromedriver                        0x00000001041ed1bd chromedriver + 328125\n5   chromedriver                        0x00000001041ed4fc chromedriver + 328956\n6   chromedriver                        0x00000001041ed454 chromedriver + 328788\n7   chromedriver                        0x0000000104217775 chromedriver + 501621\n8   chromedriver                        0x000000010420d1b3 chromedriver + 459187\n9   chromedriver                        0x000000010420b6e1 chromedriver + 452321\n10  chromedriver                        0x000000010420eb87 chromedriver + 465799\n11  chromedriver                        0x000000010420ec8c chromedriver + 466060\n12  chromedriver                        0x0000000104244c12 chromedriver + 687122\n13  chromedriver                        0x000000010426f012 chromedriver + 860178\n14  chromedriver                        0x000000010423e9c1 chromedriver + 661953\n15  chromedriver                        0x000000010426f1ce chromedriver + 860622\n16  chromedriver                        0x0000000104289e76 chromedriver + 970358\n17  chromedriver                        0x000000010426ede3 chromedriver + 859619\n18  chromedriver                        0x000000010423cd7f chromedriver + 654719\n19  chromedriver                        0x000000010423e0de chromedriver + 659678\n20  chromedriver                        0x000000010460e2ad chromedriver + 4657837\n21  chromedriver                        0x0000000104613130 chromedriver + 4677936\n22  chromedriver                        0x0000000104619def chromedriver + 4705775\n23  chromedriver                        0x000000010461405a chromedriver + 4681818\n24  chromedriver                        0x00000001045e692c chromedriver + 4495660\n25  chromedriver                        0x0000000104631838 chromedriver + 4802616\n26  chromedriver                        0x00000001046319b7 chromedriver + 4802999\n27  chromedriver                        0x000000010464299f chromedriver + 4872607\n28  libsystem_pthread.dylib             0x00007ff8101124e1 _pthread_start + 125\n29  libsystem_pthread.dylib             0x00007ff81010df6b thread_start + 15\n"
     ]
    }
   ],
   "source": [
    "driver = webdriver.Chrome()\n",
    "driver.get(url)\n",
    "driver.implicitly_wait(10)\n",
    "elements = driver.find_elements(By.XPATH, '/html/head/title')\n",
    "for e in elements: \n",
    "    e.text"
   ]
  },
  {
   "cell_type": "code",
   "execution_count": 46,
   "id": "3e835da4",
   "metadata": {},
   "outputs": [
    {
     "name": "stdout",
     "output_type": "stream",
     "text": [
      "\n"
     ]
    }
   ],
   "source": [
    "print(text)"
   ]
  },
  {
   "cell_type": "code",
   "execution_count": null,
   "id": "dad96cc1",
   "metadata": {},
   "outputs": [],
   "source": []
  }
 ],
 "metadata": {
  "kernelspec": {
   "display_name": "Python 3 (ipykernel)",
   "language": "python",
   "name": "python3"
  },
  "language_info": {
   "codemirror_mode": {
    "name": "ipython",
    "version": 3
   },
   "file_extension": ".py",
   "mimetype": "text/x-python",
   "name": "python",
   "nbconvert_exporter": "python",
   "pygments_lexer": "ipython3",
   "version": "3.10.6"
  }
 },
 "nbformat": 4,
 "nbformat_minor": 5
}
