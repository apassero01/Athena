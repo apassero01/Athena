{
 "cells": [
  {
   "cell_type": "code",
   "execution_count": 53,
   "id": "2ee66ab0",
   "metadata": {},
   "outputs": [
    {
     "data": {
      "text/plain": [
       "True"
      ]
     },
     "execution_count": 53,
     "metadata": {},
     "output_type": "execute_result"
    }
   ],
   "source": [
    "from langchain.prompts import PromptTemplate\n",
    "from langchain.chat_models import ChatOpenAI\n",
    "from langchain.chains import LLMChain\n",
    "import os\n",
    "from dotenv import load_dotenv, find_dotenv\n",
    "load_dotenv(find_dotenv())"
   ]
  },
  {
   "cell_type": "code",
   "execution_count": 55,
   "id": "42e4d379",
   "metadata": {},
   "outputs": [],
   "source": [
    "llm = ChatOpenAI(model_name = 'gpt-3.5-turbo-0613')"
   ]
  },
  {
   "cell_type": "code",
   "execution_count": 26,
   "id": "8a1f71f0",
   "metadata": {},
   "outputs": [],
   "source": [
    "text = \"qnstagram. Q Search Sign Up\\n\\ngolfstronghitbombs\\n\\n\\n\\nFollow\\n\\nOriginal audio\\n\\nTrain Your Hips To Move Powerfully @\\n\\ngolfstronghitbombs This is such a great drill for teaching powerful lower body movement!\\n\\n® ©\\n\\nJust beware it is not easy!\\n\\n| would recommend teeing the ball up when practicing so you don't get frustrated and quit ©\\n\\nBut it really will teach the proper sequencing of lower body movement and how to use the ground to transmit speed to the club.\\n\\nFor more tips:\\n\\n@FOLLOW @golfstronghitbombs & There isvalso.a drill we Used toimake Follow @golfstronghitbombs\\n\\nV9 AV W\\n\\n3,131 likes\\n\\nMAY 14\\n\\nLog in to like or comment.\\n\\nMore posts from golfstronghitbombs\\n\\n93Y yds PardS\\n\\nPlay Torrey With Me\\n\\nLog into Instagram\\n\\nLog in to see photos and videos from friends and discover other accounts you'll love.\""
   ]
  },
  {
   "cell_type": "code",
   "execution_count": 27,
   "id": "74e19c34",
   "metadata": {},
   "outputs": [],
   "source": [
    "trimContentPromt = PromptTemplate(\n",
    "    input_variables = [\"text_input\"],\n",
    "    template = \"take this string of content scraped from a screenshot and return update it to a string that only has information relevent to the post:  \\n {text_input}\" \n",
    ")"
   ]
  },
  {
   "cell_type": "code",
   "execution_count": 32,
   "id": "cadea2e2",
   "metadata": {},
   "outputs": [],
   "source": [
    "trimpContentChain = LLMChain(llm=llm, prompt = trimContentPromt)\n",
    "content = trimpContentChain.run(text)"
   ]
  },
  {
   "cell_type": "code",
   "execution_count": 60,
   "id": "8da1995f",
   "metadata": {},
   "outputs": [],
   "source": [
    "CreateItemTagPrompt = PromptTemplate(\n",
    "    input_variables = [\"text_input\"],\n",
    "    template = \"Return a MAXIMUM 200 character string with single word or multi word tags and related words without hashtags or commmas from the following text\\n {text_input} \" \n",
    ")"
   ]
  },
  {
   "cell_type": "code",
   "execution_count": 61,
   "id": "90a04549",
   "metadata": {},
   "outputs": [
    {
     "name": "stdout",
     "output_type": "stream",
     "text": [
      "Train Hips Powerfully, Golf Strong Hit Bombs, drill, teaching, lower body movement, teeing, practicing, frustrated, quit, proper sequencing, ground, transmit speed, club, tips\n"
     ]
    }
   ],
   "source": [
    "CreateTagChain = LLMChain(llm=llm, prompt = CreateItemTagPrompt)\n",
    "tags = CreateTagChain.run(content)\n",
    "print(tags)"
   ]
  },
  {
   "cell_type": "code",
   "execution_count": null,
   "id": "9d27ce25",
   "metadata": {},
   "outputs": [],
   "source": []
  }
 ],
 "metadata": {
  "kernelspec": {
   "display_name": "Python 3 (ipykernel)",
   "language": "python",
   "name": "python3"
  },
  "language_info": {
   "codemirror_mode": {
    "name": "ipython",
    "version": 3
   },
   "file_extension": ".py",
   "mimetype": "text/x-python",
   "name": "python",
   "nbconvert_exporter": "python",
   "pygments_lexer": "ipython3",
   "version": "3.10.6"
  }
 },
 "nbformat": 4,
 "nbformat_minor": 5
}
