{
 "cells": [
  {
   "cell_type": "markdown",
   "id": "0f0eaf3c",
   "metadata": {},
   "source": []
  },
  {
   "cell_type": "code",
   "execution_count": 2,
   "id": "dd9b695e",
   "metadata": {},
   "outputs": [
    {
     "data": {
      "text/plain": [
       "True"
      ]
     },
     "execution_count": 2,
     "metadata": {},
     "output_type": "execute_result"
    }
   ],
   "source": [
    "import os\n",
    "from dotenv import load_dotenv, find_dotenv\n",
    "load_dotenv(find_dotenv())"
   ]
  },
  {
   "cell_type": "code",
   "execution_count": 3,
   "id": "c7f8386a",
   "metadata": {
    "scrolled": true
   },
   "outputs": [],
   "source": [
    "from langchain.text_splitter import RecursiveCharacterTextSplitter\n",
    "from langchain.document_loaders import TextLoader\n",
    "\n",
    "loader = TextLoader(\"bibletest.txt\")\n",
    "documents = loader.load()\n",
    "text_splitter = RecursiveCharacterTextSplitter(chunk_size = 1000, chunk_overlap = 0)\n",
    "docs = text_splitter.split_documents(documents)\n"
   ]
  },
  {
   "cell_type": "code",
   "execution_count": 45,
   "id": "50fbeb19",
   "metadata": {},
   "outputs": [],
   "source": [
    "from langchain.embeddings import OpenAIEmbeddings\n",
    "\n",
    "embeddings = OpenAIEmbeddings()"
   ]
  },
  {
   "cell_type": "code",
   "execution_count": 1,
   "id": "7dec2e7d",
   "metadata": {},
   "outputs": [
    {
     "ename": "NameError",
     "evalue": "name 'embeddings' is not defined",
     "output_type": "error",
     "traceback": [
      "\u001b[0;31m---------------------------------------------------------------------------\u001b[0m",
      "\u001b[0;31mNameError\u001b[0m                                 Traceback (most recent call last)",
      "Cell \u001b[0;32mIn[1], line 1\u001b[0m\n\u001b[0;32m----> 1\u001b[0m \u001b[38;5;28mlen\u001b[39m(\u001b[43membeddings\u001b[49m)\n",
      "\u001b[0;31mNameError\u001b[0m: name 'embeddings' is not defined"
     ]
    }
   ],
   "source": []
  },
  {
   "cell_type": "code",
   "execution_count": 46,
   "id": "af5fa541",
   "metadata": {},
   "outputs": [],
   "source": [
    "import os\n",
    "import pinecone\n",
    "from langchain.vectorstores import Pinecone\n",
    "\n",
    "pinecone.init(\n",
    "    api_key = os.getenv(\"PINECONE_API_KEY\"),\n",
    "    environment = os.getenv(\"PINECONE_ENV\")\n",
    ")"
   ]
  },
  {
   "cell_type": "code",
   "execution_count": 47,
   "id": "726a49e7",
   "metadata": {},
   "outputs": [],
   "source": [
    "index_name = \"example1\"\n",
    "search = Pinecone.from_texts([t.page_content for t in docs],embeddings,index_name = index_name)"
   ]
  },
  {
   "cell_type": "code",
   "execution_count": 48,
   "id": "bdb452d3",
   "metadata": {},
   "outputs": [],
   "source": [
    "query = \"parable bury money\"\n",
    "test = search.similarity_search(query)"
   ]
  },
  {
   "cell_type": "code",
   "execution_count": 41,
   "id": "8356d6ca",
   "metadata": {},
   "outputs": [
    {
     "name": "stdout",
     "output_type": "stream",
     "text": [
      "page_content='Genesis 23:3 And Abraham rose up from before his dead, and spake unto the children of Heth, saying,\\nGenesis 23:4 I am a stranger and a sojourner with you: give me a possession of a burying-place with you, that I may bury my dead out of my sight.\\nGenesis 23:5 And the children of Heth answered Abraham, saying unto him,\\nGenesis 23:6 Hear us, my lord; thou art a prince of God among us: in the choice of our sepulchres bury thy dead; none of us shall withhold from thee his sepulchre, but that thou mayest bury thy dead.\\nGenesis 23:7 And Abraham rose up, and bowed himself to the people of the land, even to the children of Heth.\\nGenesis 23:8 And he communed with them, saying, If it be your mind that I should bury my dead out of my sight, hear me, and entreat for me to Ephron the son of Zohar,\\nGenesis 23:9 that he may give me the cave of Machpelah, which he hath, which is in the end of his field; for the full price let him give it to me in the midst of you for a possession of a burying-place.' metadata={}\n",
      "\n",
      "\n",
      "\n",
      "\n",
      "page_content='Genesis 23:3 And Abraham rose up from before his dead, and spake unto the children of Heth, saying,\\nGenesis 23:4 I am a stranger and a sojourner with you: give me a possession of a burying-place with you, that I may bury my dead out of my sight.\\nGenesis 23:5 And the children of Heth answered Abraham, saying unto him,\\nGenesis 23:6 Hear us, my lord; thou art a prince of God among us: in the choice of our sepulchres bury thy dead; none of us shall withhold from thee his sepulchre, but that thou mayest bury thy dead.\\nGenesis 23:7 And Abraham rose up, and bowed himself to the people of the land, even to the children of Heth.\\nGenesis 23:8 And he communed with them, saying, If it be your mind that I should bury my dead out of my sight, hear me, and entreat for me to Ephron the son of Zohar,\\nGenesis 23:9 that he may give me the cave of Machpelah, which he hath, which is in the end of his field; for the full price let him give it to me in the midst of you for a possession of a burying-place.' metadata={}\n",
      "\n",
      "\n",
      "\n",
      "\n",
      "page_content='Genesis 23:16 And Abraham hearkened unto Ephron; and Abraham weighed to Ephron the silver which he had named in the audience of the children of Heth, four hundred shekels of silver, current [money] with the merchant.\\nGenesis 23:17 So the field of Ephron, which was in Machpelah, which was before Mamre, the field, and the cave which was therein, and all the trees that were in the field, that were in all the border thereof round about, were made sure\\nGenesis 23:18 unto Abraham for a possession in the presence of the children of Heth, before all that went in at the gate of his city.\\nGenesis 23:19 And after this, Abraham buried Sarah his wife in the cave of the field of Machpelah before Mamre (the same is Hebron), in the land of Canaan.\\nGenesis 23:20 And the field, and the cave that is therein, were made sure unto Abraham for a possession of a burying-place by the children of Heth.\\nGenesis 24:1 And Abraham was old, [and] well stricken in age: and Jehovah had blessed Abraham in all things.' metadata={}\n",
      "\n",
      "\n",
      "\n",
      "\n",
      "page_content='Genesis 23:16 And Abraham hearkened unto Ephron; and Abraham weighed to Ephron the silver which he had named in the audience of the children of Heth, four hundred shekels of silver, current [money] with the merchant.\\nGenesis 23:17 So the field of Ephron, which was in Machpelah, which was before Mamre, the field, and the cave which was therein, and all the trees that were in the field, that were in all the border thereof round about, were made sure\\nGenesis 23:18 unto Abraham for a possession in the presence of the children of Heth, before all that went in at the gate of his city.\\nGenesis 23:19 And after this, Abraham buried Sarah his wife in the cave of the field of Machpelah before Mamre (the same is Hebron), in the land of Canaan.\\nGenesis 23:20 And the field, and the cave that is therein, were made sure unto Abraham for a possession of a burying-place by the children of Heth.\\nGenesis 24:1 And Abraham was old, [and] well stricken in age: and Jehovah had blessed Abraham in all things.' metadata={}\n",
      "\n",
      "\n",
      "\n",
      "\n"
     ]
    }
   ],
   "source": [
    "for item in test:\n",
    "    print(item)\n",
    "    print(\"\\n\\n\\n\")"
   ]
  },
  {
   "cell_type": "code",
   "execution_count": null,
   "id": "80b12397",
   "metadata": {},
   "outputs": [],
   "source": []
  }
 ],
 "metadata": {
  "kernelspec": {
   "display_name": "Python 3 (ipykernel)",
   "language": "python",
   "name": "python3"
  },
  "language_info": {
   "codemirror_mode": {
    "name": "ipython",
    "version": 3
   },
   "file_extension": ".py",
   "mimetype": "text/x-python",
   "name": "python",
   "nbconvert_exporter": "python",
   "pygments_lexer": "ipython3",
   "version": "3.10.6"
  }
 },
 "nbformat": 4,
 "nbformat_minor": 5
}
