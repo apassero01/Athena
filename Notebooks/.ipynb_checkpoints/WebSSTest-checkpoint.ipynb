{
 "cells": [
  {
   "cell_type": "code",
   "execution_count": 14,
   "id": "7990530d",
   "metadata": {},
   "outputs": [],
   "source": []
  },
  {
   "cell_type": "code",
   "execution_count": 11,
   "id": "9d790f09",
   "metadata": {},
   "outputs": [
    {
     "data": {
      "text/plain": [
       "Document(page_content=\"Sign in to Twitter\\n\\nG Sign in with Google\\n\\n@ Sign in with Apple\\n\\nor\\n\\nPhone, email, or username\\n\\nForgot password?\\n\\nDon't have an account?\", metadata={'source': 'screen_shot.png'})"
      ]
     },
     "execution_count": 11,
     "metadata": {},
     "output_type": "execute_result"
    }
   ],
   "source": [
    "from selenium import webdriver\n",
    "from PIL import Image\n",
    "from selenium.webdriver.chrome.options import Options\n",
    "import time\n",
    "from langchain.document_loaders.image import UnstructuredImageLoader\n",
    "from selenium.webdriver.common.by import By\n",
    "\n",
    "\n",
    "url = \"https://twitter.com/Travis_in_Flint/status/1674890906372132864?s=20\"\n",
    "# url = \"https://www.instagram.com/reel/Cs86kPUJNqI/?utm_source=ig_web_copy_link&igshid=MzRlODBiNWFlZA==\"\n",
    "\n",
    "#run first time to get scrollHeight\n",
    "\n",
    "chrome_options = Options()\n",
    "\n",
    "chrome_options.add_argument(\"--headless\")\n",
    "driver = webdriver.Chrome(options = chrome_options)\n",
    "driver.execute_cdp_cmd('Network.setUserAgentOverride', {\"userAgent\": 'Mozilla/5.0 (Windows NT 10.0; Win64; x64) AppleWebKit/537.36 (KHTML, like Gecko) Chrome/83.0.4103.97 Safari/537.36'})\n",
    "\n",
    "driver.get(url)\n",
    "#pause 3 second to let page loads\n",
    "time.sleep(3)\n",
    "# elements = driver.find_elements(By.XPATH, \"//div[@data-testid='tweetText']\")\n",
    "# for e in elements:\n",
    "#     print(e.text)\n",
    "driver.save_screenshot('screen_shot.png')\n",
    "driver.close()\n",
    "\n",
    "loader = UnstructuredImageLoader(\"screen_shot.png\")\n",
    "data = loader.load()\n",
    "data[0]"
   ]
  },
  {
   "cell_type": "code",
   "execution_count": null,
   "id": "c8d4adf4",
   "metadata": {},
   "outputs": [],
   "source": []
  },
  {
   "cell_type": "code",
   "execution_count": null,
   "id": "43fd68df",
   "metadata": {},
   "outputs": [],
   "source": []
  },
  {
   "cell_type": "code",
   "execution_count": null,
   "id": "c56f4a38",
   "metadata": {},
   "outputs": [],
   "source": []
  }
 ],
 "metadata": {
  "kernelspec": {
   "display_name": "Python 3 (ipykernel)",
   "language": "python",
   "name": "python3"
  },
  "language_info": {
   "codemirror_mode": {
    "name": "ipython",
    "version": 3
   },
   "file_extension": ".py",
   "mimetype": "text/x-python",
   "name": "python",
   "nbconvert_exporter": "python",
   "pygments_lexer": "ipython3",
   "version": "3.10.6"
  }
 },
 "nbformat": 4,
 "nbformat_minor": 5
}
