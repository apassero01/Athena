{
 "cells": [
  {
   "cell_type": "code",
   "execution_count": 10,
   "id": "21a03718",
   "metadata": {},
   "outputs": [],
   "source": [
    "from selenium import webdriver\n",
    "from selenium.webdriver.common.by import By\n",
    "from time import sleep\n",
    "from selenium.webdriver.chrome.options import Options"
   ]
  },
  {
   "cell_type": "code",
   "execution_count": 14,
   "id": "6766b990",
   "metadata": {},
   "outputs": [],
   "source": [
    "# url = \"https://twitter.com/marketplunger1/status/1658858833295425536?s=20\"\n",
    "url = \"https://twitter.com/MarioNawfal/status/1672530619748810752?s=20\""
   ]
  },
  {
   "cell_type": "code",
   "execution_count": 15,
   "id": "9a3bbe2c",
   "metadata": {},
   "outputs": [],
   "source": [
    "# options = Options()\n",
    "# options.add_argument(\"--headless\")\n",
    "# driver = webdriver.Chrome(options = options)\n",
    "# driver.get(url)\n"
   ]
  },
  {
   "cell_type": "code",
   "execution_count": 22,
   "id": "419294c4",
   "metadata": {},
   "outputs": [
    {
     "name": "stdout",
     "output_type": "stream",
     "text": [
      "[<selenium.webdriver.remote.webelement.WebElement (session=\"f11ac9f68d23f67bc5f57c6b144266c3\", element=\"9FE1EFB84B2EB53E751C0180F933F24C_element_28\")>, <selenium.webdriver.remote.webelement.WebElement (session=\"f11ac9f68d23f67bc5f57c6b144266c3\", element=\"9FE1EFB84B2EB53E751C0180F933F24C_element_29\")>, <selenium.webdriver.remote.webelement.WebElement (session=\"f11ac9f68d23f67bc5f57c6b144266c3\", element=\"9FE1EFB84B2EB53E751C0180F933F24C_element_30\")>, <selenium.webdriver.remote.webelement.WebElement (session=\"f11ac9f68d23f67bc5f57c6b144266c3\", element=\"9FE1EFB84B2EB53E751C0180F933F24C_element_31\")>, <selenium.webdriver.remote.webelement.WebElement (session=\"f11ac9f68d23f67bc5f57c6b144266c3\", element=\"9FE1EFB84B2EB53E751C0180F933F24C_element_32\")>, <selenium.webdriver.remote.webelement.WebElement (session=\"f11ac9f68d23f67bc5f57c6b144266c3\", element=\"9FE1EFB84B2EB53E751C0180F933F24C_element_33\")>, <selenium.webdriver.remote.webelement.WebElement (session=\"f11ac9f68d23f67bc5f57c6b144266c3\", element=\"9FE1EFB84B2EB53E751C0180F933F24C_element_34\")>, <selenium.webdriver.remote.webelement.WebElement (session=\"f11ac9f68d23f67bc5f57c6b144266c3\", element=\"9FE1EFB84B2EB53E751C0180F933F24C_element_35\")>, <selenium.webdriver.remote.webelement.WebElement (session=\"f11ac9f68d23f67bc5f57c6b144266c3\", element=\"9FE1EFB84B2EB53E751C0180F933F24C_element_36\")>, <selenium.webdriver.remote.webelement.WebElement (session=\"f11ac9f68d23f67bc5f57c6b144266c3\", element=\"9FE1EFB84B2EB53E751C0180F933F24C_element_37\")>, <selenium.webdriver.remote.webelement.WebElement (session=\"f11ac9f68d23f67bc5f57c6b144266c3\", element=\"9FE1EFB84B2EB53E751C0180F933F24C_element_38\")>, <selenium.webdriver.remote.webelement.WebElement (session=\"f11ac9f68d23f67bc5f57c6b144266c3\", element=\"9FE1EFB84B2EB53E751C0180F933F24C_element_39\")>]\n"
     ]
    }
   ],
   "source": [
    "url = \"https://twitter.com/greg_price11/status/1665792769472823299\"\n",
    "options = Options()\n",
    "options.add_argument(\"--headless\")\n",
    "driver = webdriver.Chrome(options = options)\n",
    "driver.get(url)\n",
    "\n",
    "# driver = webdriver.Chrome()\n",
    "# driver.get(url)\n",
    "sleep(3)\n",
    "elements = driver.find_elements(By.XPATH, \"//div[@data-testid='tweetText']\")\n",
    "elements = driver.find_elements\n",
    "\n",
    "print(elements)\n",
    "\n",
    "driver.close()\n",
    "driver.quit()"
   ]
  },
  {
   "cell_type": "code",
   "execution_count": null,
   "id": "c3dba906",
   "metadata": {},
   "outputs": [],
   "source": []
  },
  {
   "cell_type": "code",
   "execution_count": null,
   "id": "16960ada",
   "metadata": {},
   "outputs": [],
   "source": []
  }
 ],
 "metadata": {
  "kernelspec": {
   "display_name": "Python 3 (ipykernel)",
   "language": "python",
   "name": "python3"
  },
  "language_info": {
   "codemirror_mode": {
    "name": "ipython",
    "version": 3
   },
   "file_extension": ".py",
   "mimetype": "text/x-python",
   "name": "python",
   "nbconvert_exporter": "python",
   "pygments_lexer": "ipython3",
   "version": "3.10.6"
  }
 },
 "nbformat": 4,
 "nbformat_minor": 5
}
