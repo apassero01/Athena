{
 "cells": [
  {
   "cell_type": "code",
   "execution_count": 68,
   "id": "21a03718",
   "metadata": {},
   "outputs": [],
   "source": [
    "from selenium import webdriver\n",
    "from selenium.webdriver.common.by import By\n",
    "from time import sleep"
   ]
  },
  {
   "cell_type": "code",
   "execution_count": 86,
   "id": "6766b990",
   "metadata": {},
   "outputs": [],
   "source": [
    "# url = \"https://twitter.com/marketplunger1/status/1658858833295425536?s=20\"\n",
    "url = \"https://twitter.com/greg_price11/status/1665792769472823299\""
   ]
  },
  {
   "cell_type": "code",
   "execution_count": 87,
   "id": "9a3bbe2c",
   "metadata": {},
   "outputs": [],
   "source": [
    "driver = webdriver.Chrome()\n",
    "driver.get(url)\n"
   ]
  },
  {
   "cell_type": "code",
   "execution_count": 88,
   "id": "419294c4",
   "metadata": {},
   "outputs": [
    {
     "name": "stdout",
     "output_type": "stream",
     "text": [
      "Eric Adams suggests housing illegal migrants in private residences in New York:\n",
      "\n",
      "“It is my vision to take the next step to this faith-based locales and then move to a private residence... They have spare rooms.\"\n",
      "The illegal aliens will be most comfortable back in their own country, the sooner the better.\n",
      "I think you should go back to wherever your immigrant family members came from\n",
      "Many Democrats who support illegal  immigrants should step forward and consider opening up their expansive houses and condos in rich who’re neighborhoods to provide housing for these individuals.\n",
      "Will Eric Adams set an example and house illegal immigrants in his onw private residence? \n",
      "A great idea from a great leader!\n",
      "And just like that… every homeowner in New York became a Republican.\n",
      "It would be so much easier to not let them all in and have an orderly legal process with annual limits.\n",
      "Free money and housing?? Let’s go!!!  \n",
      "How about Eric Adams takes them into his home, I mean leaders should lead by example.\n"
     ]
    }
   ],
   "source": [
    "driver = webdriver.Chrome()\n",
    "driver.get(url)\n",
    "sleep(3)\n",
    "elements = driver.find_elements(By.XPATH, \"//div[@data-testid='tweetText']\")\n",
    "\n",
    "for e in elements: \n",
    "    print(e.text)\n",
    "\n",
    "driver.close()\n",
    "driver.quit()"
   ]
  },
  {
   "cell_type": "code",
   "execution_count": 79,
   "id": "c3dba906",
   "metadata": {},
   "outputs": [
    {
     "ename": "InvalidSessionIdException",
     "evalue": "Message: invalid session id\nStacktrace:\n0   chromedriver                        0x0000000100f6f6b8 chromedriver + 4937400\n1   chromedriver                        0x0000000100f66b73 chromedriver + 4901747\n2   chromedriver                        0x0000000100b24490 chromedriver + 435344\n3   chromedriver                        0x0000000100b5944b chromedriver + 652363\n4   chromedriver                        0x0000000100b8bf16 chromedriver + 859926\n5   chromedriver                        0x0000000100b87c9d chromedriver + 842909\n6   chromedriver                        0x0000000100b872e7 chromedriver + 840423\n7   chromedriver                        0x0000000100aee2da chromedriver + 213722\n8   chromedriver                        0x0000000100f2b2ad chromedriver + 4657837\n9   chromedriver                        0x0000000100f30130 chromedriver + 4677936\n10  chromedriver                        0x0000000100f36def chromedriver + 4705775\n11  chromedriver                        0x0000000100f3105a chromedriver + 4681818\n12  chromedriver                        0x0000000100f0392c chromedriver + 4495660\n13  chromedriver                        0x0000000100aecd33 chromedriver + 208179\n14  dyld                                0x00000001074ab52e start + 462\n",
     "output_type": "error",
     "traceback": [
      "\u001b[0;31m---------------------------------------------------------------------------\u001b[0m",
      "\u001b[0;31mInvalidSessionIdException\u001b[0m                 Traceback (most recent call last)",
      "Cell \u001b[0;32mIn[79], line 1\u001b[0m\n\u001b[0;32m----> 1\u001b[0m \u001b[38;5;28mprint\u001b[39m(\u001b[43melements\u001b[49m\u001b[38;5;241;43m.\u001b[39;49m\u001b[43mtext\u001b[49m)\n",
      "File \u001b[0;32m/Library/Frameworks/Python.framework/Versions/3.10/lib/python3.10/site-packages/selenium/webdriver/remote/webelement.py:90\u001b[0m, in \u001b[0;36mWebElement.text\u001b[0;34m(self)\u001b[0m\n\u001b[1;32m     87\u001b[0m \u001b[38;5;129m@property\u001b[39m\n\u001b[1;32m     88\u001b[0m \u001b[38;5;28;01mdef\u001b[39;00m \u001b[38;5;21mtext\u001b[39m(\u001b[38;5;28mself\u001b[39m) \u001b[38;5;241m-\u001b[39m\u001b[38;5;241m>\u001b[39m \u001b[38;5;28mstr\u001b[39m:\n\u001b[1;32m     89\u001b[0m \u001b[38;5;250m    \u001b[39m\u001b[38;5;124;03m\"\"\"The text of the element.\"\"\"\u001b[39;00m\n\u001b[0;32m---> 90\u001b[0m     \u001b[38;5;28;01mreturn\u001b[39;00m \u001b[38;5;28;43mself\u001b[39;49m\u001b[38;5;241;43m.\u001b[39;49m\u001b[43m_execute\u001b[49m\u001b[43m(\u001b[49m\u001b[43mCommand\u001b[49m\u001b[38;5;241;43m.\u001b[39;49m\u001b[43mGET_ELEMENT_TEXT\u001b[49m\u001b[43m)\u001b[49m[\u001b[38;5;124m\"\u001b[39m\u001b[38;5;124mvalue\u001b[39m\u001b[38;5;124m\"\u001b[39m]\n",
      "File \u001b[0;32m/Library/Frameworks/Python.framework/Versions/3.10/lib/python3.10/site-packages/selenium/webdriver/remote/webelement.py:403\u001b[0m, in \u001b[0;36mWebElement._execute\u001b[0;34m(self, command, params)\u001b[0m\n\u001b[1;32m    401\u001b[0m     params \u001b[38;5;241m=\u001b[39m {}\n\u001b[1;32m    402\u001b[0m params[\u001b[38;5;124m\"\u001b[39m\u001b[38;5;124mid\u001b[39m\u001b[38;5;124m\"\u001b[39m] \u001b[38;5;241m=\u001b[39m \u001b[38;5;28mself\u001b[39m\u001b[38;5;241m.\u001b[39m_id\n\u001b[0;32m--> 403\u001b[0m \u001b[38;5;28;01mreturn\u001b[39;00m \u001b[38;5;28;43mself\u001b[39;49m\u001b[38;5;241;43m.\u001b[39;49m\u001b[43m_parent\u001b[49m\u001b[38;5;241;43m.\u001b[39;49m\u001b[43mexecute\u001b[49m\u001b[43m(\u001b[49m\u001b[43mcommand\u001b[49m\u001b[43m,\u001b[49m\u001b[43m \u001b[49m\u001b[43mparams\u001b[49m\u001b[43m)\u001b[49m\n",
      "File \u001b[0;32m/Library/Frameworks/Python.framework/Versions/3.10/lib/python3.10/site-packages/selenium/webdriver/remote/webdriver.py:440\u001b[0m, in \u001b[0;36mWebDriver.execute\u001b[0;34m(self, driver_command, params)\u001b[0m\n\u001b[1;32m    438\u001b[0m response \u001b[38;5;241m=\u001b[39m \u001b[38;5;28mself\u001b[39m\u001b[38;5;241m.\u001b[39mcommand_executor\u001b[38;5;241m.\u001b[39mexecute(driver_command, params)\n\u001b[1;32m    439\u001b[0m \u001b[38;5;28;01mif\u001b[39;00m response:\n\u001b[0;32m--> 440\u001b[0m     \u001b[38;5;28;43mself\u001b[39;49m\u001b[38;5;241;43m.\u001b[39;49m\u001b[43merror_handler\u001b[49m\u001b[38;5;241;43m.\u001b[39;49m\u001b[43mcheck_response\u001b[49m\u001b[43m(\u001b[49m\u001b[43mresponse\u001b[49m\u001b[43m)\u001b[49m\n\u001b[1;32m    441\u001b[0m     response[\u001b[38;5;124m\"\u001b[39m\u001b[38;5;124mvalue\u001b[39m\u001b[38;5;124m\"\u001b[39m] \u001b[38;5;241m=\u001b[39m \u001b[38;5;28mself\u001b[39m\u001b[38;5;241m.\u001b[39m_unwrap_value(response\u001b[38;5;241m.\u001b[39mget(\u001b[38;5;124m\"\u001b[39m\u001b[38;5;124mvalue\u001b[39m\u001b[38;5;124m\"\u001b[39m, \u001b[38;5;28;01mNone\u001b[39;00m))\n\u001b[1;32m    442\u001b[0m     \u001b[38;5;28;01mreturn\u001b[39;00m response\n",
      "File \u001b[0;32m/Library/Frameworks/Python.framework/Versions/3.10/lib/python3.10/site-packages/selenium/webdriver/remote/errorhandler.py:245\u001b[0m, in \u001b[0;36mErrorHandler.check_response\u001b[0;34m(self, response)\u001b[0m\n\u001b[1;32m    243\u001b[0m         alert_text \u001b[38;5;241m=\u001b[39m value[\u001b[38;5;124m\"\u001b[39m\u001b[38;5;124malert\u001b[39m\u001b[38;5;124m\"\u001b[39m]\u001b[38;5;241m.\u001b[39mget(\u001b[38;5;124m\"\u001b[39m\u001b[38;5;124mtext\u001b[39m\u001b[38;5;124m\"\u001b[39m)\n\u001b[1;32m    244\u001b[0m     \u001b[38;5;28;01mraise\u001b[39;00m exception_class(message, screen, stacktrace, alert_text)  \u001b[38;5;66;03m# type: ignore[call-arg]  # mypy is not smart enough here\u001b[39;00m\n\u001b[0;32m--> 245\u001b[0m \u001b[38;5;28;01mraise\u001b[39;00m exception_class(message, screen, stacktrace)\n",
      "\u001b[0;31mInvalidSessionIdException\u001b[0m: Message: invalid session id\nStacktrace:\n0   chromedriver                        0x0000000100f6f6b8 chromedriver + 4937400\n1   chromedriver                        0x0000000100f66b73 chromedriver + 4901747\n2   chromedriver                        0x0000000100b24490 chromedriver + 435344\n3   chromedriver                        0x0000000100b5944b chromedriver + 652363\n4   chromedriver                        0x0000000100b8bf16 chromedriver + 859926\n5   chromedriver                        0x0000000100b87c9d chromedriver + 842909\n6   chromedriver                        0x0000000100b872e7 chromedriver + 840423\n7   chromedriver                        0x0000000100aee2da chromedriver + 213722\n8   chromedriver                        0x0000000100f2b2ad chromedriver + 4657837\n9   chromedriver                        0x0000000100f30130 chromedriver + 4677936\n10  chromedriver                        0x0000000100f36def chromedriver + 4705775\n11  chromedriver                        0x0000000100f3105a chromedriver + 4681818\n12  chromedriver                        0x0000000100f0392c chromedriver + 4495660\n13  chromedriver                        0x0000000100aecd33 chromedriver + 208179\n14  dyld                                0x00000001074ab52e start + 462\n"
     ]
    }
   ],
   "source": []
  },
  {
   "cell_type": "code",
   "execution_count": null,
   "id": "16960ada",
   "metadata": {},
   "outputs": [],
   "source": []
  }
 ],
 "metadata": {
  "kernelspec": {
   "display_name": "Python 3 (ipykernel)",
   "language": "python",
   "name": "python3"
  },
  "language_info": {
   "codemirror_mode": {
    "name": "ipython",
    "version": 3
   },
   "file_extension": ".py",
   "mimetype": "text/x-python",
   "name": "python",
   "nbconvert_exporter": "python",
   "pygments_lexer": "ipython3",
   "version": "3.10.6"
  }
 },
 "nbformat": 4,
 "nbformat_minor": 5
}
