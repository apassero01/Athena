{
 "cells": [
  {
   "cell_type": "markdown",
   "id": "0f0eaf3c",
   "metadata": {},
   "source": []
  },
  {
   "cell_type": "code",
   "execution_count": 63,
   "id": "dd9b695e",
   "metadata": {},
   "outputs": [
    {
     "data": {
      "text/plain": [
       "True"
      ]
     },
     "execution_count": 63,
     "metadata": {},
     "output_type": "execute_result"
    }
   ],
   "source": [
    "import os\n",
    "from dotenv import load_dotenv, find_dotenv\n",
    "load_dotenv(find_dotenv())"
   ]
  },
  {
   "cell_type": "code",
   "execution_count": 64,
   "id": "c7f8386a",
   "metadata": {
    "scrolled": true
   },
   "outputs": [],
   "source": [
    "from langchain.text_splitter import RecursiveCharacterTextSplitter\n",
    "from langchain.document_loaders import PyPDFLoader\n",
    "\n",
    "files = [\"CS240 Proposal.pdf\", \"homework 11 (1).pdf\"]\n",
    "# \"homework reflection 1 - Google Docs.pdf\"\n",
    "\n",
    "allDocs = []\n",
    "for file in files: \n",
    "    loader = PyPDFLoader(file)\n",
    "    allDocs.extend(loader.load())\n"
   ]
  },
  {
   "cell_type": "code",
   "execution_count": null,
   "id": "efbe35e6",
   "metadata": {},
   "outputs": [],
   "source": []
  },
  {
   "cell_type": "code",
   "execution_count": 65,
   "id": "9f60b809",
   "metadata": {},
   "outputs": [],
   "source": [
    "text_splitter = RecursiveCharacterTextSplitter(chunk_size = 1000, chunk_overlap = 0)\n",
    "docs = text_splitter.split_documents(allDocs)"
   ]
  },
  {
   "cell_type": "code",
   "execution_count": 66,
   "id": "6383a2f6",
   "metadata": {},
   "outputs": [
    {
     "data": {
      "text/plain": [
       "10"
      ]
     },
     "execution_count": 66,
     "metadata": {},
     "output_type": "execute_result"
    }
   ],
   "source": [
    "len(docs)"
   ]
  },
  {
   "cell_type": "code",
   "execution_count": 67,
   "id": "50fbeb19",
   "metadata": {},
   "outputs": [],
   "source": [
    "from langchain.embeddings import OpenAIEmbeddings\n",
    "\n",
    "embeddings = OpenAIEmbeddings()"
   ]
  },
  {
   "cell_type": "code",
   "execution_count": 68,
   "id": "7dec2e7d",
   "metadata": {},
   "outputs": [
    {
     "data": {
      "text/plain": [
       "OpenAIEmbeddings(client=<class 'openai.api_resources.embedding.Embedding'>, model='text-embedding-ada-002', deployment='text-embedding-ada-002', openai_api_version=None, openai_api_base=None, openai_api_type=None, embedding_ctx_length=8191, openai_api_key=None, openai_organization=None, allowed_special=set(), disallowed_special='all', chunk_size=1000, max_retries=6, request_timeout=None, headers=None)"
      ]
     },
     "execution_count": 68,
     "metadata": {},
     "output_type": "execute_result"
    }
   ],
   "source": [
    "embeddings"
   ]
  },
  {
   "cell_type": "code",
   "execution_count": 69,
   "id": "af5fa541",
   "metadata": {},
   "outputs": [],
   "source": [
    "import os\n",
    "import pinecone\n",
    "from langchain.vectorstores import Pinecone\n",
    "\n",
    "pinecone.init(\n",
    "    api_key = os.getenv(\"PINECONE_API_KEY\"),\n",
    "    environment = os.getenv(\"PINECONE_ENV\")\n",
    ")"
   ]
  },
  {
   "cell_type": "code",
   "execution_count": 70,
   "id": "726a49e7",
   "metadata": {},
   "outputs": [],
   "source": [
    "index_name = \"example1\"\n",
    "search = Pinecone.from_documents(docs,embeddings,index_name = index_name)\n",
    "index = pinecone.Index(index_name)\n"
   ]
  },
  {
   "cell_type": "code",
   "execution_count": 71,
   "id": "0d76a6b6",
   "metadata": {},
   "outputs": [
    {
     "data": {
      "text/plain": [
       "{'dimension': 1536,\n",
       " 'index_fullness': 0.0,\n",
       " 'namespaces': {'': {'vector_count': 10}},\n",
       " 'total_vector_count': 10}"
      ]
     },
     "execution_count": 71,
     "metadata": {},
     "output_type": "execute_result"
    }
   ],
   "source": [
    "index.describe_index_stats()"
   ]
  },
  {
   "cell_type": "code",
   "execution_count": 57,
   "id": "bdb452d3",
   "metadata": {},
   "outputs": [],
   "source": [
    "query = \"artifical\"\n",
    "test = search.similarity_search(query)"
   ]
  },
  {
   "cell_type": "code",
   "execution_count": 59,
   "id": "da03d10c",
   "metadata": {},
   "outputs": [
    {
     "data": {
      "text/plain": [
       "{'page': 0.0, 'source': 'CS240 Proposal.pdf'}"
      ]
     },
     "execution_count": 59,
     "metadata": {},
     "output_type": "execute_result"
    }
   ],
   "source": [
    "test[0].metadata"
   ]
  },
  {
   "cell_type": "code",
   "execution_count": 61,
   "id": "5291f7a2",
   "metadata": {},
   "outputs": [
    {
     "data": {
      "text/plain": [
       "{}"
      ]
     },
     "execution_count": 61,
     "metadata": {},
     "output_type": "execute_result"
    }
   ],
   "source": [
    "index.delete(filter={  \n",
    "    })"
   ]
  },
  {
   "cell_type": "code",
   "execution_count": 62,
   "id": "362ea0c1",
   "metadata": {},
   "outputs": [
    {
     "data": {
      "text/plain": [
       "{'dimension': 1536,\n",
       " 'index_fullness': 0.0,\n",
       " 'namespaces': {},\n",
       " 'total_vector_count': 0}"
      ]
     },
     "execution_count": 62,
     "metadata": {},
     "output_type": "execute_result"
    }
   ],
   "source": [
    "index.describe_index_stats()"
   ]
  },
  {
   "cell_type": "code",
   "execution_count": 41,
   "id": "8356d6ca",
   "metadata": {},
   "outputs": [
    {
     "data": {
      "text/plain": [
       "{}"
      ]
     },
     "execution_count": 41,
     "metadata": {},
     "output_type": "execute_result"
    }
   ],
   "source": [
    "test[0].metadata"
   ]
  },
  {
   "cell_type": "code",
   "execution_count": 25,
   "id": "80b12397",
   "metadata": {},
   "outputs": [
    {
     "data": {
      "text/plain": [
       "'Jeremiah 10:10 But Jehovah is the true God; he is the living God, and an everlasting King: at his wrath the earth trembleth, and the nations are not able to abide his indignation.\\nJeremiah 10:11 Thus shall ye say unto them, The gods that have not made the heavens and the earth, these shall perish from the earth, and from under the heavens.\\nJeremiah 10:12 He hath made the earth by his power, he hath established the world by his wisdom, and by his understanding hath he stretched out the heavens:\\nJeremiah 10:13 when he uttereth his voice, there is a tumult of waters in the heavens, and he causeth the vapors to ascend from the ends of the earth; he maketh lightnings for the rain, and bringeth forth the wind out of his treasuries.\\nJeremiah 10:14 Every man is become brutish [and is] without knowledge; every goldsmith is put to shame by his graven image; for his molten image is falsehood, and there is no breath in them.'"
      ]
     },
     "execution_count": 25,
     "metadata": {},
     "output_type": "execute_result"
    }
   ],
   "source": [
    "test[0].page_content"
   ]
  },
  {
   "cell_type": "code",
   "execution_count": null,
   "id": "3bbf1c1c",
   "metadata": {},
   "outputs": [],
   "source": []
  },
  {
   "cell_type": "code",
   "execution_count": 42,
   "id": "758d321a",
   "metadata": {},
   "outputs": [
    {
     "ename": "KeyError",
     "evalue": "'source'",
     "output_type": "error",
     "traceback": [
      "\u001b[0;31m---------------------------------------------------------------------------\u001b[0m",
      "\u001b[0;31mKeyError\u001b[0m                                  Traceback (most recent call last)",
      "Cell \u001b[0;32mIn[42], line 1\u001b[0m\n\u001b[0;32m----> 1\u001b[0m \u001b[43mtest\u001b[49m\u001b[43m[\u001b[49m\u001b[38;5;241;43m0\u001b[39;49m\u001b[43m]\u001b[49m\u001b[38;5;241;43m.\u001b[39;49m\u001b[43mmetadata\u001b[49m\u001b[43m[\u001b[49m\u001b[38;5;124;43m'\u001b[39;49m\u001b[38;5;124;43msource\u001b[39;49m\u001b[38;5;124;43m'\u001b[39;49m\u001b[43m]\u001b[49m\n",
      "\u001b[0;31mKeyError\u001b[0m: 'source'"
     ]
    }
   ],
   "source": [
    "test[0].metadata['source']"
   ]
  },
  {
   "cell_type": "code",
   "execution_count": null,
   "id": "20921ee8",
   "metadata": {},
   "outputs": [],
   "source": []
  }
 ],
 "metadata": {
  "kernelspec": {
   "display_name": "Python 3 (ipykernel)",
   "language": "python",
   "name": "python3"
  },
  "language_info": {
   "codemirror_mode": {
    "name": "ipython",
    "version": 3
   },
   "file_extension": ".py",
   "mimetype": "text/x-python",
   "name": "python",
   "nbconvert_exporter": "python",
   "pygments_lexer": "ipython3",
   "version": "3.10.6"
  }
 },
 "nbformat": 4,
 "nbformat_minor": 5
}
