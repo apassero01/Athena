{
 "cells": [
  {
   "cell_type": "markdown",
   "id": "0f0eaf3c",
   "metadata": {},
   "source": []
  },
  {
   "cell_type": "code",
   "execution_count": null,
   "id": "e7545c12",
   "metadata": {},
   "outputs": [],
   "source": []
  },
  {
   "cell_type": "code",
   "execution_count": 1,
   "id": "dd9b695e",
   "metadata": {},
   "outputs": [
    {
     "data": {
      "text/plain": [
       "True"
      ]
     },
     "execution_count": 1,
     "metadata": {},
     "output_type": "execute_result"
    }
   ],
   "source": [
    "import os\n",
    "from dotenv import load_dotenv, find_dotenv\n",
    "load_dotenv(find_dotenv())"
   ]
  },
  {
   "cell_type": "code",
   "execution_count": 2,
   "id": "c7f8386a",
   "metadata": {
    "scrolled": true
   },
   "outputs": [],
   "source": [
    "from langchain.text_splitter import RecursiveCharacterTextSplitter\n",
    "from langchain.document_loaders import PyPDFLoader\n",
    "\n",
    "files = [\"CS240 Proposal.pdf\", \"homework 11 (1).pdf\", \"homework reflection 1 - Google Docs.pdf\"]\n",
    "\n",
    "allDocs = []\n",
    "for file in files: \n",
    "    loader = PyPDFLoader(file)\n",
    "    allDocs.extend(loader.load())\n"
   ]
  },
  {
   "cell_type": "code",
   "execution_count": null,
   "id": "efbe35e6",
   "metadata": {},
   "outputs": [],
   "source": []
  },
  {
   "cell_type": "code",
   "execution_count": 3,
   "id": "9f60b809",
   "metadata": {},
   "outputs": [],
   "source": [
    "text_splitter = RecursiveCharacterTextSplitter(chunk_size = 1000, chunk_overlap = 0)\n",
    "docs = text_splitter.split_documents(allDocs)"
   ]
  },
  {
   "cell_type": "code",
   "execution_count": null,
   "id": "6383a2f6",
   "metadata": {},
   "outputs": [],
   "source": []
  },
  {
   "cell_type": "code",
   "execution_count": 4,
   "id": "50fbeb19",
   "metadata": {},
   "outputs": [],
   "source": [
    "from langchain.embeddings import OpenAIEmbeddings\n",
    "\n",
    "embeddings = OpenAIEmbeddings()"
   ]
  },
  {
   "cell_type": "code",
   "execution_count": null,
   "id": "7dec2e7d",
   "metadata": {},
   "outputs": [],
   "source": []
  },
  {
   "cell_type": "code",
   "execution_count": 7,
   "id": "af5fa541",
   "metadata": {},
   "outputs": [],
   "source": [
    "import os\n",
    "from langchain.vectorstores import Zilliz\n",
    "\n",
    "ZILLIZ_ENDPOINT = \"https://in01-29700771d8e9741.aws-us-east-2.vectordb.zillizcloud.com:19541\"\n",
    "ZILLIZ_USERR = \"db_admin\"\n",
    "ZILLIZ_PASS = \"Benter2006eh090401\""
   ]
  },
  {
   "cell_type": "code",
   "execution_count": 11,
   "id": "726a49e7",
   "metadata": {},
   "outputs": [],
   "source": [
    "vector_store = Zilliz.from_documents(docs, embedding=embeddings, connection_args={\"uri\": ZILLIZ_ENDPOINT, \"user\" : ZILLIZ_USERR, \"password\": ZILLIZ_PASS, \"secure\": True})"
   ]
  },
  {
   "cell_type": "code",
   "execution_count": 14,
   "id": "bdb452d3",
   "metadata": {},
   "outputs": [],
   "source": [
    "query = \"eceg\"\n",
    "test = vector_store.similarity_search(query)"
   ]
  },
  {
   "cell_type": "code",
   "execution_count": 16,
   "id": "8356d6ca",
   "metadata": {},
   "outputs": [
    {
     "data": {
      "text/plain": [
       "Document(page_content='ECEG 240 – Digital System Design  \\nDue:  Start of next class  \\n1) For the equation above...\\na) [1 point ] Write a truth -table\\na)[1 point] Write a Boolean-expression\\nb)[4 points] Using Karnaugh-maps, provide a reduced Boolean expression and draw the \\ncircuit\\nc)[2 points] Use a MUX to factor out the least significant bit and draw the simplified  \\ncircuit\\nd)[6 points] Starting with your circuit in part c, reduce the circuit a further time!\\n(perform the MUX-factoring of the least significant bit again , use a DEMUX, something \\nelse?) For this part, please briefly explain what you did so that we can follow your logic!', metadata={'source': 'homework 11 (1).pdf', 'page': 0})"
      ]
     },
     "execution_count": 16,
     "metadata": {},
     "output_type": "execute_result"
    }
   ],
   "source": [
    "test[0]"
   ]
  },
  {
   "cell_type": "code",
   "execution_count": 17,
   "id": "80b12397",
   "metadata": {},
   "outputs": [
    {
     "data": {
      "text/plain": [
       "'ECEG 240 – Digital System Design  \\nDue:  Start of next class  \\n1) For the equation above...\\na) [1 point ] Write a truth -table\\na)[1 point] Write a Boolean-expression\\nb)[4 points] Using Karnaugh-maps, provide a reduced Boolean expression and draw the \\ncircuit\\nc)[2 points] Use a MUX to factor out the least significant bit and draw the simplified  \\ncircuit\\nd)[6 points] Starting with your circuit in part c, reduce the circuit a further time!\\n(perform the MUX-factoring of the least significant bit again , use a DEMUX, something \\nelse?) For this part, please briefly explain what you did so that we can follow your logic!'"
      ]
     },
     "execution_count": 17,
     "metadata": {},
     "output_type": "execute_result"
    }
   ],
   "source": [
    "test[0].page_content"
   ]
  },
  {
   "cell_type": "code",
   "execution_count": 19,
   "id": "758d321a",
   "metadata": {},
   "outputs": [
    {
     "data": {
      "text/plain": [
       "'homework 11 (1).pdf'"
      ]
     },
     "execution_count": 19,
     "metadata": {},
     "output_type": "execute_result"
    }
   ],
   "source": [
    "test[0].metadata['source']"
   ]
  },
  {
   "cell_type": "code",
   "execution_count": null,
   "id": "20921ee8",
   "metadata": {},
   "outputs": [],
   "source": []
  }
 ],
 "metadata": {
  "kernelspec": {
   "display_name": "Python 3 (ipykernel)",
   "language": "python",
   "name": "python3"
  },
  "language_info": {
   "codemirror_mode": {
    "name": "ipython",
    "version": 3
   },
   "file_extension": ".py",
   "mimetype": "text/x-python",
   "name": "python",
   "nbconvert_exporter": "python",
   "pygments_lexer": "ipython3",
   "version": "3.10.6"
  }
 },
 "nbformat": 4,
 "nbformat_minor": 5
}
