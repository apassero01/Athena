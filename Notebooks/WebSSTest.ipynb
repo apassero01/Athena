{
 "cells": [
  {
   "cell_type": "code",
   "execution_count": 14,
   "id": "7990530d",
   "metadata": {},
   "outputs": [],
   "source": []
  },
  {
   "cell_type": "code",
   "execution_count": 4,
   "id": "9d790f09",
   "metadata": {},
   "outputs": [],
   "source": [
    "from selenium import webdriver\n",
    "from PIL import Image\n",
    "from selenium.webdriver.chrome.options import Options\n",
    "import time\n",
    "\n",
    "url = \"https://www.allrecipes.com/article/how-to-cook-steak/\"\n",
    "url = 'https://www.instagram.com/reel/CrXgAazgKJ0/'\n",
    "\n",
    "#run first time to get scrollHeight\n",
    "\n",
    "chrome_options = Options()\n",
    "\n",
    "chrome_options.add_argument(\"--headless\")\n",
    "driver = webdriver.Chrome(options = chrome_options)\n",
    "driver.execute_cdp_cmd('Network.setUserAgentOverride', {\"userAgent\": 'Mozilla/5.0 (Windows NT 10.0; Win64; x64) AppleWebKit/537.36 (KHTML, like Gecko) Chrome/83.0.4103.97 Safari/537.36'})\n",
    "# driver.get(url)\n",
    "# #pause 3 second to let page load\n",
    "# time.sleep(5)\n",
    "# #get scroll Height\n",
    "# height = driver.execute_script(\"return Math.max( document.body.scrollHeight, document.body.offsetHeight, document.documentElement.clientHeight, document.documentElement.scrollHeight, document.documentElement.offsetHeight )\")\n",
    "# print(height)\n",
    "# #close browser\n",
    "# driver.close()\n",
    "\n",
    "# #Open another headless browser with height extracted above\n",
    "\n",
    "\n",
    "# chrome_options.add_argument(f\"--window-size=1920,{height}\")\n",
    "# chrome_options.add_argument(\"--hide-scrollbars\")\n",
    "# driver = webdriver.Chrome(options=chrome_options)\n",
    "\n",
    "driver.get(url)\n",
    "#pause 3 second to let page loads\n",
    "time.sleep(5)\n",
    "#save screenshot\n",
    "driver.save_screenshot('screen_shot.png')\n",
    "driver.close()"
   ]
  },
  {
   "cell_type": "code",
   "execution_count": null,
   "id": "c8d4adf4",
   "metadata": {},
   "outputs": [],
   "source": []
  },
  {
   "cell_type": "code",
   "execution_count": null,
   "id": "43fd68df",
   "metadata": {},
   "outputs": [],
   "source": []
  },
  {
   "cell_type": "code",
   "execution_count": null,
   "id": "c56f4a38",
   "metadata": {},
   "outputs": [],
   "source": []
  }
 ],
 "metadata": {
  "kernelspec": {
   "display_name": "Python 3 (ipykernel)",
   "language": "python",
   "name": "python3"
  },
  "language_info": {
   "codemirror_mode": {
    "name": "ipython",
    "version": 3
   },
   "file_extension": ".py",
   "mimetype": "text/x-python",
   "name": "python",
   "nbconvert_exporter": "python",
   "pygments_lexer": "ipython3",
   "version": "3.10.6"
  }
 },
 "nbformat": 4,
 "nbformat_minor": 5
}
