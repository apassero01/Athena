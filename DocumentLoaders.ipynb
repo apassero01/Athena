{
 "cells": [
  {
   "cell_type": "code",
   "execution_count": 2,
   "id": "9be1a840",
   "metadata": {},
   "outputs": [],
   "source": [
    "from langchain.document_loaders import PyPDFLoader"
   ]
  },
  {
   "cell_type": "code",
   "execution_count": 3,
   "id": "b0b1cc3e",
   "metadata": {},
   "outputs": [
    {
     "data": {
      "text/plain": [
       "'Homework   Reflection   1                                                                                           Andrew   Passero   \\n  \\n  \\nThis   homework   assignment   focused   on   identifying   different   atoms   and   their   make   up   \\nincluding   the   amount   of   protons,   neutrons,   electrons   and   mass.   It   also   focused   on   electron   \\nconfiguration   for   different   elements.   Additionally,   there   were   questions   on   how   charge   influences   \\nsizes   of   ions   and   bonding   and   properties   of   those   bonded   atoms.   There   was   also   one   question   \\non   the   ability   to   conduct   electricity   based   on   properties.     \\nI   felt   comfortable   identifying   the   atoms   and   their   properties   including   mass,   protons,   \\nneutrons   and   electrons.   I   also   was   comfortable   doing   electron   configurations   even   though   I   \\nswitched   the   order   of   the   shells   when   writing   them   out.   I   have   identified   this   mistake   and   it   is   \\neasy   to   fix.   I   knew   and   understood   why   ions   have   different   sizes.   I   had   trouble   with   question   5   \\nbecause   I   did   not   understand   what   characterizing   the   ionic   character   of   bonds.   I   understand   this   \\nmistake   now   and   I   will   go   over   my   notes   to   ensure   I   understand   this   topic.   I   also   struggled   to   \\nunderstand   the   type   of   materials   that   would   be   created   as   a   result   of   different   bonds   so   I   will   go   \\nover   that   on   my   own.   Finally,   for   question   6,   I   did   understand   the   reason   for   metallic   bonds   have   \\nmore   conductivity.'"
      ]
     },
     "execution_count": 3,
     "metadata": {},
     "output_type": "execute_result"
    }
   ],
   "source": [
    "\n",
    "loader = PyPDFLoader(\"homework reflection 1 - Google Docs.pdf\")\n",
    "loader\n",
    "pages = loader.load_and_split()\n",
    "pages[0].page_content"
   ]
  },
  {
   "cell_type": "code",
   "execution_count": 4,
   "id": "0b9a36b3",
   "metadata": {},
   "outputs": [
    {
     "data": {
      "text/plain": [
       "[Document(page_content='Homework   Reflection   1                                                                                           Andrew   Passero   \\n  \\n  \\nThis   homework   assignment   focused   on   identifying   different   atoms   and   their   make   up   \\nincluding   the   amount   of   protons,   neutrons,   electrons   and   mass.   It   also   focused   on   electron   \\nconfiguration   for   different   elements.   Additionally,   there   were   questions   on   how   charge   influences   \\nsizes   of   ions   and   bonding   and   properties   of   those   bonded   atoms.   There   was   also   one   question   \\non   the   ability   to   conduct   electricity   based   on   properties.     \\nI   felt   comfortable   identifying   the   atoms   and   their   properties   including   mass,   protons,   \\nneutrons   and   electrons.   I   also   was   comfortable   doing   electron   configurations   even   though   I   \\nswitched   the   order   of   the   shells   when   writing   them   out.   I   have   identified   this   mistake   and   it   is   \\neasy   to   fix.   I   knew   and   understood   why   ions   have   different   sizes.   I   had   trouble   with   question   5   \\nbecause   I   did   not   understand   what   characterizing   the   ionic   character   of   bonds.   I   understand   this   \\nmistake   now   and   I   will   go   over   my   notes   to   ensure   I   understand   this   topic.   I   also   struggled   to   \\nunderstand   the   type   of   materials   that   would   be   created   as   a   result   of   different   bonds   so   I   will   go   \\nover   that   on   my   own.   Finally,   for   question   6,   I   did   understand   the   reason   for   metallic   bonds   have   \\nmore   conductivity.', metadata={'source': 'homework reflection 1 - Google Docs.pdf', 'page': 0})]"
      ]
     },
     "execution_count": 4,
     "metadata": {},
     "output_type": "execute_result"
    }
   ],
   "source": [
    "pages"
   ]
  },
  {
   "cell_type": "code",
   "execution_count": 5,
   "id": "2bfe2faf",
   "metadata": {},
   "outputs": [],
   "source": [
    "from langchain.document_loaders.image import UnstructuredImageLoader"
   ]
  },
  {
   "cell_type": "code",
   "execution_count": 6,
   "id": "7e44fd51",
   "metadata": {},
   "outputs": [],
   "source": [
    "loader = UnstructuredImageLoader(\"instagramTest.png\")"
   ]
  },
  {
   "cell_type": "code",
   "execution_count": 7,
   "id": "7067a586",
   "metadata": {},
   "outputs": [],
   "source": [
    "data = loader.load()"
   ]
  },
  {
   "cell_type": "code",
   "execution_count": 8,
   "id": "fab365b5",
   "metadata": {},
   "outputs": [
    {
     "data": {
      "text/plain": [
       "Document(page_content=\"€\\n\\nde_draino + Following\\n\\nOriginal audio\\n\\ndc_draino “It better be water, partner!” Welcome to California where criminals like this can terrorize the innocent for TikTok videos but if someone actually defended their life, they would've been treated worse than the criminal =\\n\\nEdited\\n\\n\\n\\n30m\\n\\nbrofeldts Not surprising in a society where we're basically removing consequences for actions.\\n\\n13m 109 likes Reply\\n\\npmdaniel14 God bless that old timer @\\n\\n9aAaVv W\\n\\n25,259 likes\\n\\n31 MINUTES AGO\\n\\n© Adda comment... Post\", metadata={'source': 'instagramTest.png'})"
      ]
     },
     "execution_count": 8,
     "metadata": {},
     "output_type": "execute_result"
    }
   ],
   "source": [
    "data[0]"
   ]
  },
  {
   "cell_type": "code",
   "execution_count": null,
   "id": "866b0797",
   "metadata": {},
   "outputs": [],
   "source": []
  }
 ],
 "metadata": {
  "kernelspec": {
   "display_name": "Python 3 (ipykernel)",
   "language": "python",
   "name": "python3"
  },
  "language_info": {
   "codemirror_mode": {
    "name": "ipython",
    "version": 3
   },
   "file_extension": ".py",
   "mimetype": "text/x-python",
   "name": "python",
   "nbconvert_exporter": "python",
   "pygments_lexer": "ipython3",
   "version": "3.10.6"
  }
 },
 "nbformat": 4,
 "nbformat_minor": 5
}
